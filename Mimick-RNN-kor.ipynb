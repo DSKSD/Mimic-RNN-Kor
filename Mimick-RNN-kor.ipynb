{
 "cells": [
  {
   "cell_type": "code",
   "execution_count": 1,
   "metadata": {
    "collapsed": true
   },
   "outputs": [],
   "source": [
    "import torch\n",
    "import torch.nn as nn\n",
    "import torch.nn.functional as F\n",
    "import torch.optim as optim\n",
    "from torch.autograd import Variable\n",
    "import Hangulpy as hg\n",
    "import pickle\n",
    "flatten = lambda l: [item for sublist in l for item in sublist]\n",
    "from torch.nn.utils.rnn import PackedSequence,pack_padded_sequence\n",
    "\n",
    "USE_CUDA = torch.cuda.is_available()"
   ]
  },
  {
   "cell_type": "code",
   "execution_count": 2,
   "metadata": {
    "collapsed": true
   },
   "outputs": [],
   "source": [
    "pretrained_vector = pickle.load(open(\"data/glove_50.pkl\",\"rb\"))\n",
    "word2index = pickle.load(open(\"data/vocab_glove_50.dict\",\"rb\"))"
   ]
  },
  {
   "cell_type": "code",
   "execution_count": 3,
   "metadata": {
    "collapsed": true
   },
   "outputs": [],
   "source": [
    "index2word = {v:k for k,v in word2index.items()}"
   ]
  },
  {
   "cell_type": "code",
   "execution_count": 4,
   "metadata": {
    "collapsed": true
   },
   "outputs": [],
   "source": [
    "vocab = []\n",
    "for i in range(len(index2word)):\n",
    "    vocab.append(index2word[i])"
   ]
  },
  {
   "cell_type": "code",
   "execution_count": 5,
   "metadata": {
    "collapsed": false
   },
   "outputs": [
    {
     "data": {
      "text/plain": [
       "442026"
      ]
     },
     "execution_count": 5,
     "metadata": {},
     "output_type": "execute_result"
    }
   ],
   "source": [
    "len(vocab)"
   ]
  },
  {
   "cell_type": "code",
   "execution_count": 6,
   "metadata": {
    "collapsed": false
   },
   "outputs": [],
   "source": [
    "class MimickRNN(nn.Module):\n",
    "    \n",
    "    def __init__(self,vocab,word_embed,char_embed,char_hidden,mlp_hidden):\n",
    "        super(MimickRNN,self).__init__()\n",
    "        \n",
    "        self.word_embed = nn.Embedding(len(vocab),word_embed)\n",
    "        self.vocab = vocab\n",
    "        \n",
    "        char_vocab = ['<pad>','<other>','ㄱ', 'ㄲ', 'ㄴ', 'ㄷ', 'ㄸ', 'ㄹ', 'ㅁ', \n",
    "              'ㅂ', 'ㅃ', 'ㅅ', 'ㅆ', 'ㅇ', 'ㅈ', 'ㅉ', 'ㅊ', 'ㅋ', 'ㅌ', 'ㅍ', \n",
    "              'ㅎ', 'ㅏ', 'ㅐ', 'ㅑ', 'ㅒ', 'ㅓ', 'ㅔ', 'ㅕ', 'ㅖ', 'ㅗ', 'ㅘ', \n",
    "              'ㅙ', 'ㅚ', 'ㅛ', 'ㅜ', 'ㅝ', 'ㅞ', 'ㅟ', 'ㅠ', 'ㅡ', 'ㅢ', 'ㅣ',\n",
    "              'ㄳ', 'ㄵ', 'ㄶ', 'ㄺ', 'ㄻ', 'ㄼ', 'ㄽ',\n",
    "              'ㄾ', 'ㄿ', 'ㅀ', 'ㅄ',\n",
    "              '0','1','2','3','4','5','6','7','8','9','a','b','c','d','e','f','g','h','i','j','k',\n",
    "              'l','m','n','o','p','q','r','s','t','u','v','w','x','y','z','A','B','C','D','E','F','G',\n",
    "              'H','I','J','K','L','M','N','O','P','Q','R','S','T','U','V','W','X','Y','Z',\"{\",\"}\"\n",
    "               '-','(',')','!','~','?','[',']',',','.','/','<','>','#','@','$','%','^','&','*','_',\n",
    "               '+','-','=',':',';',\"'\",'\"']\n",
    "        \n",
    "        self.char_hidden = char_hidden\n",
    "        self.char2index = {v:i for i,v in enumerate(char_vocab)}\n",
    "        self.char_embed = nn.Embedding(len(self.char2index), char_embed)\n",
    "        self.mimick_rnn = nn.LSTM(char_embed,char_hidden,1,batch_first=True,bidirectional=True)\n",
    "        self.mimick_linear = nn.Sequential(nn.Linear(char_hidden*2,mlp_hidden),\n",
    "                                                           nn.Tanh(),\n",
    "                                                           nn.Linear(mlp_hidden,word_embed))\n",
    "        \n",
    "    def init_word_embed(self,pretrained_vectors):\n",
    "        self.word_embed.weight = nn.Parameter(torch.from_numpy(pretrained_vectors).float())\n",
    "        self.word_embed.requires_grad = False # 고정\n",
    "    \n",
    "    def init_char_hidden(self,size):\n",
    "        hidden = Variable(torch.zeros(2,size,self.char_hidden))\n",
    "        context = Variable(torch.zeros(2,size,self.char_hidden))\n",
    "        if USE_CUDA:\n",
    "            hidden = hidden.cuda()\n",
    "            context = hidden.cuda()\n",
    "        return hidden, context\n",
    "    \n",
    "    def prepare_single_char(self,token):\n",
    "        idxs=[]\n",
    "        for s in token:\n",
    "            if hg.is_hangul(s):\n",
    "                # 음소 단위 분해\n",
    "                try:\n",
    "                    emso = list(hg.decompose(s))\n",
    "                    if emso[-1]=='':\n",
    "                        emso.pop()\n",
    "                except:\n",
    "                    emso = s\n",
    "                idxs.extend(list(map(lambda w: self.char2index[w], emso)))\n",
    "            else:\n",
    "                candit=s\n",
    "                if s.isalpha():\n",
    "                    candit='<alpha>'\n",
    "                try:\n",
    "                    idxs.append(self.char2index[candit])\n",
    "                except:\n",
    "                    idxs.append(self.char2index['<other>']) # '' 가 OTHER같이\n",
    "        tensor = torch.LongTensor(idxs)\n",
    "        tensor = Variable(tensor)\n",
    "        return tensor\n",
    "    \n",
    "    def prepare_char(self,seq,index=None):\n",
    "        seq = list(map(lambda v: self.prepare_single_char(v), seq))\n",
    "        if index:\n",
    "            forsort = list(zip(seq,index))\n",
    "            forsort = sorted(forsort,key = lambda s: s[0].size(0),reverse=True)\n",
    "            seq,index = list(zip(*forsort))\n",
    "            seq,index = list(seq),list(index)\n",
    "        else:\n",
    "            seq = sorted(seq,key = lambda s: s.size(0),reverse=True)\n",
    "        length = [s.size(0) for s in seq]\n",
    "        max_length = max(length)\n",
    "        seq = [torch.cat([s,Variable(torch.LongTensor([self.char2index['<pad>']]*(max_length-s.size(0))))]).view(1,-1) for s in seq]\n",
    "        seq = torch.cat(seq)\n",
    "        if index:\n",
    "            return seq, length, Variable(torch.LongTensor(index))\n",
    "        else:\n",
    "            return seq, length\n",
    "        \n",
    "    def train_mimick(self,step,batch_size=32,lr=0.0001):\n",
    "        print(\"start training mimic-rnn with %d batch_size\" % batch_size)\n",
    "        optimizer = optim.Adam(filter(lambda p: p.requires_grad, self.parameters()),lr=lr)\n",
    "        for step_index in range(step):\n",
    "            try:\n",
    "                offset = 0\n",
    "                iter_index = list(range(len(self.vocab)//batch_size + 1))\n",
    "                for i in iter_index:\n",
    "                    voca = self.vocab[offset:offset+batch_size]\n",
    "                    index = list(range(offset,offset+batch_size))\n",
    "                    offset+=batch_size\n",
    "                    \n",
    "                    inputs, lengths, index = self.prepare_char(voca,index)\n",
    "                    if USE_CUDA:\n",
    "                        inputs = inputs.cuda()\n",
    "                        index = index.cuda()\n",
    "                    self.zero_grad()\n",
    "                    outputs = self.mimick(inputs,lengths)\n",
    "                    targets = self.word_embed(index)\n",
    "                    loss = F.mse_loss(outputs,targets)\n",
    "                    loss.backward()\n",
    "                    optimizer.step()\n",
    "                    if i % 100==0:\n",
    "                        print(\"[%d/%d] [%d/%d] mean_loss : %.7f\" % (step_index,step,i,len(iter_index),loss.data[0]))\n",
    "            except KeyboardInterrupt:\n",
    "                print(\"Early Stop!\")\n",
    "                break\n",
    "            \n",
    "    def mimick(self,inputs,lengths):\n",
    "        hidden = self.init_char_hidden(inputs.size(0))\n",
    "        embedded = self.char_embed(inputs)\n",
    "        packed = pack_padded_sequence(embedded,lengths,batch_first=True)\n",
    "        outputs, (hidden,context) = self.mimick_rnn(packed, hidden)\n",
    "        outputs, output_lengths = torch.nn.utils.rnn.pad_packed_sequence(outputs, batch_first=True)\n",
    "        hidden = torch.cat([h for h in hidden], 1) # concat\n",
    "        return self.mimick_linear(hidden)\n",
    "        "
   ]
  },
  {
   "cell_type": "code",
   "execution_count": 35,
   "metadata": {
    "collapsed": false
   },
   "outputs": [],
   "source": [
    "model = MimickRNN(vocab,50,20,50,200) # vocab, word_embed, char_embed, char_hidden, mlp_hidden\n",
    "model.init_word_embed(pretrained_vector)\n",
    "if USE_CUDA:\n",
    "    model = model.cuda()"
   ]
  },
  {
   "cell_type": "code",
   "execution_count": 36,
   "metadata": {
    "collapsed": true
   },
   "outputs": [],
   "source": [
    "STEP = 20\n",
    "BATCH_SIZE = 256"
   ]
  },
  {
   "cell_type": "code",
   "execution_count": 38,
   "metadata": {
    "collapsed": false
   },
   "outputs": [
    {
     "name": "stdout",
     "output_type": "stream",
     "text": [
      "start training mimic-rnn with 256 batch_size\n",
      "[0/20] [0/1727] mean_loss : 0.1575834\n",
      "[0/20] [100/1727] mean_loss : 0.0663308\n",
      "[0/20] [200/1727] mean_loss : 0.0603833\n",
      "[0/20] [300/1727] mean_loss : 0.0354156\n",
      "[0/20] [400/1727] mean_loss : 0.0559310\n",
      "[0/20] [500/1727] mean_loss : 0.0354932\n",
      "[0/20] [600/1727] mean_loss : 0.0389019\n",
      "[0/20] [700/1727] mean_loss : 0.0283960\n",
      "[0/20] [800/1727] mean_loss : 0.0220782\n",
      "[0/20] [900/1727] mean_loss : 0.0194084\n",
      "[0/20] [1000/1727] mean_loss : 0.0127001\n",
      "[0/20] [1100/1727] mean_loss : 0.0113896\n",
      "[0/20] [1200/1727] mean_loss : 0.0073245\n",
      "[0/20] [1300/1727] mean_loss : 0.0063106\n",
      "[0/20] [1400/1727] mean_loss : 0.0048851\n",
      "[0/20] [1500/1727] mean_loss : 0.0027732\n",
      "[0/20] [1600/1727] mean_loss : 0.0024465\n",
      "[0/20] [1700/1727] mean_loss : 0.0000853\n",
      "[1/20] [0/1727] mean_loss : 0.1538887\n",
      "[1/20] [100/1727] mean_loss : 0.0664462\n",
      "[1/20] [200/1727] mean_loss : 0.0597725\n",
      "[1/20] [300/1727] mean_loss : 0.0348659\n",
      "[1/20] [400/1727] mean_loss : 0.0552871\n",
      "[1/20] [500/1727] mean_loss : 0.0349677\n",
      "[1/20] [600/1727] mean_loss : 0.0383270\n",
      "[1/20] [700/1727] mean_loss : 0.0279148\n",
      "[1/20] [800/1727] mean_loss : 0.0216535\n",
      "[1/20] [900/1727] mean_loss : 0.0190059\n",
      "[1/20] [1000/1727] mean_loss : 0.0124007\n",
      "[1/20] [1100/1727] mean_loss : 0.0110995\n",
      "[1/20] [1200/1727] mean_loss : 0.0070932\n",
      "[1/20] [1300/1727] mean_loss : 0.0060970\n",
      "[1/20] [1400/1727] mean_loss : 0.0047254\n",
      "[1/20] [1500/1727] mean_loss : 0.0026498\n",
      "[1/20] [1600/1727] mean_loss : 0.0023433\n",
      "[1/20] [1700/1727] mean_loss : 0.0000679\n",
      "[2/20] [0/1727] mean_loss : 0.1527365\n",
      "[2/20] [100/1727] mean_loss : 0.0654436\n",
      "[2/20] [200/1727] mean_loss : 0.0588341\n",
      "[2/20] [300/1727] mean_loss : 0.0341920\n",
      "[2/20] [400/1727] mean_loss : 0.0544006\n",
      "[2/20] [500/1727] mean_loss : 0.0343168\n",
      "[2/20] [600/1727] mean_loss : 0.0376035\n",
      "[2/20] [700/1727] mean_loss : 0.0273612\n",
      "[2/20] [800/1727] mean_loss : 0.0211724\n",
      "[2/20] [900/1727] mean_loss : 0.0185769\n",
      "[2/20] [1000/1727] mean_loss : 0.0120935\n",
      "[2/20] [1100/1727] mean_loss : 0.0108013\n",
      "[2/20] [1200/1727] mean_loss : 0.0068665\n",
      "[2/20] [1300/1727] mean_loss : 0.0058913\n",
      "[2/20] [1400/1727] mean_loss : 0.0045731\n",
      "[2/20] [1500/1727] mean_loss : 0.0025375\n",
      "[2/20] [1600/1727] mean_loss : 0.0022470\n",
      "[2/20] [1700/1727] mean_loss : 0.0000574\n",
      "[3/20] [0/1727] mean_loss : 0.1512379\n",
      "[3/20] [100/1727] mean_loss : 0.0643941\n",
      "[3/20] [200/1727] mean_loss : 0.0578684\n",
      "[3/20] [300/1727] mean_loss : 0.0335230\n",
      "[3/20] [400/1727] mean_loss : 0.0535245\n",
      "[3/20] [500/1727] mean_loss : 0.0336483\n",
      "[3/20] [600/1727] mean_loss : 0.0368853\n",
      "[3/20] [700/1727] mean_loss : 0.0267855\n",
      "[3/20] [800/1727] mean_loss : 0.0206943\n",
      "[3/20] [900/1727] mean_loss : 0.0181515\n",
      "[3/20] [1000/1727] mean_loss : 0.0117981\n",
      "[3/20] [1100/1727] mean_loss : 0.0105192\n",
      "[3/20] [1200/1727] mean_loss : 0.0066473\n",
      "[3/20] [1300/1727] mean_loss : 0.0056939\n",
      "[3/20] [1400/1727] mean_loss : 0.0044268\n",
      "[3/20] [1500/1727] mean_loss : 0.0024310\n",
      "[3/20] [1600/1727] mean_loss : 0.0021593\n",
      "[3/20] [1700/1727] mean_loss : 0.0000523\n",
      "[4/20] [0/1727] mean_loss : 0.1497013\n",
      "[4/20] [100/1727] mean_loss : 0.0633328\n",
      "[4/20] [200/1727] mean_loss : 0.0568934\n",
      "[4/20] [300/1727] mean_loss : 0.0328588\n",
      "[4/20] [400/1727] mean_loss : 0.0526189\n",
      "[4/20] [500/1727] mean_loss : 0.0329993\n",
      "[4/20] [600/1727] mean_loss : 0.0361750\n",
      "[4/20] [700/1727] mean_loss : 0.0262308\n",
      "[4/20] [800/1727] mean_loss : 0.0202302\n",
      "[4/20] [900/1727] mean_loss : 0.0177405\n",
      "[4/20] [1000/1727] mean_loss : 0.0114988\n",
      "[4/20] [1100/1727] mean_loss : 0.0102373\n",
      "[4/20] [1200/1727] mean_loss : 0.0064382\n",
      "[4/20] [1300/1727] mean_loss : 0.0055048\n",
      "[4/20] [1400/1727] mean_loss : 0.0042877\n",
      "[4/20] [1500/1727] mean_loss : 0.0023324\n",
      "[4/20] [1600/1727] mean_loss : 0.0020730\n",
      "[4/20] [1700/1727] mean_loss : 0.0000470\n",
      "[5/20] [0/1727] mean_loss : 0.1480888\n",
      "[5/20] [100/1727] mean_loss : 0.0622789\n",
      "[5/20] [200/1727] mean_loss : 0.0559120\n",
      "[5/20] [300/1727] mean_loss : 0.0322108\n",
      "[5/20] [400/1727] mean_loss : 0.0517513\n",
      "[5/20] [500/1727] mean_loss : 0.0323540\n",
      "[5/20] [600/1727] mean_loss : 0.0354899\n",
      "[5/20] [700/1727] mean_loss : 0.0256737\n",
      "[5/20] [800/1727] mean_loss : 0.0197701\n",
      "[5/20] [900/1727] mean_loss : 0.0173369\n",
      "[5/20] [1000/1727] mean_loss : 0.0112163\n",
      "[5/20] [1100/1727] mean_loss : 0.0099746\n",
      "[5/20] [1200/1727] mean_loss : 0.0062337\n",
      "Early Stop!\n"
     ]
    }
   ],
   "source": [
    "model.train_mimick(STEP,BATCH_SIZE)"
   ]
  },
  {
   "cell_type": "markdown",
   "metadata": {
    "collapsed": true
   },
   "source": [
    "### Test Rare word"
   ]
  },
  {
   "cell_type": "markdown",
   "metadata": {},
   "source": [
    "https://ko.wikipedia.org/wiki/%EB%8C%80%ED%95%9C%EB%AF%BC%EA%B5%AD%EC%9D%98_%EC%9D%B8%ED%84%B0%EB%84%B7_%EC%8B%A0%EC%A1%B0%EC%96%B4_%EB%AA%A9%EB%A1%9D"
   ]
  },
  {
   "cell_type": "code",
   "execution_count": 31,
   "metadata": {
    "collapsed": true
   },
   "outputs": [],
   "source": [
    "rare_words = [\"가즈아\",\"고고씽\",\"갠톡\",\"급식충\",\"꿀잼\",\"존잼\",\"존잘\",\"낫닝겐\",\"덕통사고\",\"먹튀\",\"보이루\",\"빝코\",\"띵작\",\"댕댕이\"]"
   ]
  },
  {
   "cell_type": "code",
   "execution_count": 32,
   "metadata": {
    "collapsed": false
   },
   "outputs": [
    {
     "name": "stdout",
     "output_type": "stream",
     "text": [
      "가즈아 is not in voca\n",
      "갠톡 is not in voca\n",
      "급식충 is not in voca\n",
      "꿀잼 is not in voca\n",
      "존잼 is not in voca\n",
      "존잘 is not in voca\n",
      "낫닝겐 is not in voca\n",
      "덕통사고 is not in voca\n",
      "먹튀 is not in voca\n",
      "보이루 is not in voca\n",
      "빝코 is not in voca\n",
      "띵작 is not in voca\n"
     ]
    }
   ],
   "source": [
    "for word in rare_words:\n",
    "    try:\n",
    "        model.vocab.index(word)\n",
    "    except:\n",
    "        print(\"%s is not in voca\" % word)"
   ]
  },
  {
   "cell_type": "code",
   "execution_count": 33,
   "metadata": {
    "collapsed": false
   },
   "outputs": [],
   "source": [
    "def get_most_word_embedding(word,num=5):\n",
    "    matrix = model.word_embed.weight\n",
    "    inputs,lengths = model.prepare_char([word])\n",
    "    embedding = model.mimick(inputs,lengths)\n",
    "    similarities = matrix.matmul(embedding.transpose(0,1))\n",
    "    similarities = similarities.transpose(0,1)\n",
    "    norm = matrix.norm(dim=1)*embedding.norm()\n",
    "    similarities = similarities/norm\n",
    "    \n",
    "    _ , i = similarities.topk(num)\n",
    "    index = i.data.tolist()[0]\n",
    "    similar_words = [model.vocab[i] for i in index]\n",
    "    print(word)\n",
    "    print(similar_words)"
   ]
  },
  {
   "cell_type": "code",
   "execution_count": 34,
   "metadata": {
    "collapsed": false
   },
   "outputs": [
    {
     "name": "stdout",
     "output_type": "stream",
     "text": [
      "가즈아\n",
      "['대한', '특히', '들', '설빙학', '적']\n",
      "\n",
      "\n",
      "고고씽\n",
      "['대한', '설빙학', '대해', '특히', '들']\n",
      "\n",
      "\n",
      "갠톡\n",
      "['대한', '설빙학', '들', '특히', '이러']\n",
      "\n",
      "\n",
      "급식충\n",
      "['대한', '설빙학', '많', '적', '들']\n",
      "\n",
      "\n",
      "꿀잼\n",
      "['설빙학', '대한', '들', '이러', '많']\n",
      "\n",
      "\n",
      "존잼\n",
      "['대한', '설빙학', '들', '많', '적']\n",
      "\n",
      "\n",
      "존잘\n",
      "['설빙학', '대한', '많', '들', '특히']\n",
      "\n",
      "\n",
      "낫닝겐\n",
      "['설빙학', '들', '특크하우젠', '대한', '적']\n",
      "\n",
      "\n",
      "덕통사고\n",
      "['대한', '설빙학', '문제', '적극', '대해']\n",
      "\n",
      "\n",
      "먹튀\n",
      "['설빙학', '특크하우젠', '대한', '적', '들']\n",
      "\n",
      "\n",
      "보이루\n",
      "['설빙학', '대한', '문제', '들', '적']\n",
      "\n",
      "\n",
      "빝코\n",
      "['설빙학', '특크하우젠', '합네', '대한', '이러']\n",
      "\n",
      "\n",
      "띵작\n",
      "['설빙학', '들', '대한', '적', '특히']\n",
      "\n",
      "\n",
      "댕댕이\n",
      "['설빙학', '대한', '들', '대해', '많']\n",
      "\n",
      "\n"
     ]
    }
   ],
   "source": [
    "for word in rare_words:\n",
    "    get_most_word_embedding(word)\n",
    "    print(\"\\n\")"
   ]
  },
  {
   "cell_type": "code",
   "execution_count": 24,
   "metadata": {
    "collapsed": false
   },
   "outputs": [
    {
     "name": "stdout",
     "output_type": "stream",
     "text": [
      "냥냥이\n",
      "['뎬바', '막동이', '응우엔차이', '나사돌리개', '동인전람']\n"
     ]
    }
   ],
   "source": [
    "get_most_word_embedding(\"냥냥이\")"
   ]
  },
  {
   "cell_type": "code",
   "execution_count": null,
   "metadata": {
    "collapsed": true
   },
   "outputs": [],
   "source": []
  }
 ],
 "metadata": {
  "kernelspec": {
   "display_name": "Python 3",
   "language": "python",
   "name": "python3"
  },
  "language_info": {
   "codemirror_mode": {
    "name": "ipython",
    "version": 3
   },
   "file_extension": ".py",
   "mimetype": "text/x-python",
   "name": "python",
   "nbconvert_exporter": "python",
   "pygments_lexer": "ipython3",
   "version": "3.5.2"
  }
 },
 "nbformat": 4,
 "nbformat_minor": 2
}
