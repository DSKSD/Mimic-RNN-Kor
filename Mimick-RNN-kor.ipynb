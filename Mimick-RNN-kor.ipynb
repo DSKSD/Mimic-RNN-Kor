{
 "cells": [
  {
   "cell_type": "code",
   "execution_count": 1,
   "metadata": {
    "collapsed": true
   },
   "outputs": [],
   "source": [
    "import torch\n",
    "import torch.nn as nn\n",
    "import torch.nn.functional as F\n",
    "import torch.optim as optim\n",
    "from torch.autograd import Variable\n",
    "import Hangulpy as hg\n",
    "import pickle\n",
    "flatten = lambda l: [item for sublist in l for item in sublist]\n",
    "from torch.nn.utils.rnn import PackedSequence,pack_padded_sequence\n",
    "\n",
    "USE_CUDA = torch.cuda.is_available()"
   ]
  },
  {
   "cell_type": "code",
   "execution_count": 2,
   "metadata": {
    "collapsed": true
   },
   "outputs": [],
   "source": [
    "pretrained_vector = pickle.load(open(\"data/pretrained_word2vec.pkl\",\"rb\"))\n",
    "word2index = pickle.load(open(\"data/vocab.dict\",\"rb\"))"
   ]
  },
  {
   "cell_type": "code",
   "execution_count": 3,
   "metadata": {
    "collapsed": true
   },
   "outputs": [],
   "source": [
    "index2word = {v:k for k,v in word2index.items()}"
   ]
  },
  {
   "cell_type": "code",
   "execution_count": 4,
   "metadata": {
    "collapsed": true
   },
   "outputs": [],
   "source": [
    "vocab = []\n",
    "for i in range(len(index2word)):\n",
    "    vocab.append(index2word[i])"
   ]
  },
  {
   "cell_type": "code",
   "execution_count": 5,
   "metadata": {
    "collapsed": false
   },
   "outputs": [
    {
     "data": {
      "text/plain": [
       "148392"
      ]
     },
     "execution_count": 5,
     "metadata": {},
     "output_type": "execute_result"
    }
   ],
   "source": [
    "len(vocab)"
   ]
  },
  {
   "cell_type": "code",
   "execution_count": 9,
   "metadata": {
    "collapsed": false
   },
   "outputs": [],
   "source": [
    "class MimickRNN(nn.Module):\n",
    "    \n",
    "    def __init__(self,vocab,D,char_embed,lstm_hidden,mlp_hidden):\n",
    "        super(MimickRNN,self).__init__()\n",
    "        \n",
    "        V = len(vocab)\n",
    "        self.word_embed = nn.Embedding(V,D)\n",
    "        self.vocab = vocab\n",
    "        \n",
    "        char_vocab = ['<pad>','<other>','ㄱ', 'ㄲ', 'ㄴ', 'ㄷ', 'ㄸ', 'ㄹ', 'ㅁ', \n",
    "              'ㅂ', 'ㅃ', 'ㅅ', 'ㅆ', 'ㅇ', 'ㅈ', 'ㅉ', 'ㅊ', 'ㅋ', 'ㅌ', 'ㅍ', \n",
    "              'ㅎ', 'ㅏ', 'ㅐ', 'ㅑ', 'ㅒ', 'ㅓ', 'ㅔ', 'ㅕ', 'ㅖ', 'ㅗ', 'ㅘ', \n",
    "              'ㅙ', 'ㅚ', 'ㅛ', 'ㅜ', 'ㅝ', 'ㅞ', 'ㅟ', 'ㅠ', 'ㅡ', 'ㅢ', 'ㅣ',\n",
    "              'ㄳ', 'ㄵ', 'ㄶ', 'ㄺ', 'ㄻ', 'ㄼ', 'ㄽ',\n",
    "              'ㄾ', 'ㄿ', 'ㅀ', 'ㅄ',\n",
    "              '0','1','2','3','4','5','6','7','8','9','a','b','c','d','e','f','g','h','i','j','k',\n",
    "              'l','m','n','o','p','q','r','s','t','u','v','w','x','y','z','A','B','C','D','E','F','G',\n",
    "              'H','I','J','K','L','M','N','O','P','Q','R','S','T','U','V','W','X','Y','Z',\"{\",\"}\"\n",
    "               '-','(',')','!','~','?','[',']',',','.','/','<','>','#','@','$','%','^','&','*','_',\n",
    "               '+','-','=',':',';',\"'\",'\"']\n",
    "        \n",
    "        self.char2index = {v:i for i,v in enumerate(char_vocab)}\n",
    "        self.char_embed = nn.Embedding(len(self.char2index), char_embed)\n",
    "        self.mimick_rnn = nn.LSTM(char_embed,lstm_hidden,1,batch_first=True,bidirectional=True)\n",
    "        self.mimick_linear = nn.Sequential(nn.Linear(lstm_hidden*2,mlp_hidden),\n",
    "                                                           nn.Tanh(),\n",
    "                                                           nn.Linear(mlp_hidden,D))\n",
    "        \n",
    "    def init_word_embed(self,pretrained_vectors):\n",
    "        self.word_embed.weight = nn.Parameter(torch.from_numpy(pretrained_vectors).float())\n",
    "        self.word_embed.requires_grad = False # 고정\n",
    "    \n",
    "    def init_char_hidden(self,size):\n",
    "        hidden = Variable(torch.zeros(2,size,50))\n",
    "        context = Variable(torch.zeros(2,size,50))\n",
    "        if USE_CUDA:\n",
    "            hidden = hidden.cuda()\n",
    "            context = hidden.cuda()\n",
    "        return hidden, context\n",
    "    \n",
    "    def prepare_single_char(self,token):\n",
    "        idxs=[]\n",
    "        for s in token:\n",
    "            if hg.is_hangul(s):\n",
    "                # 음소 단위 분해\n",
    "                try:\n",
    "                    emso = list(hg.decompose(s))\n",
    "                    if emso[-1]=='':\n",
    "                        emso.pop()\n",
    "                except:\n",
    "                    emso = s\n",
    "                idxs.extend(list(map(lambda w: self.char2index[w], emso)))\n",
    "            else:\n",
    "                candit=s\n",
    "                if s.isalpha():\n",
    "                    candit='<alpha>'\n",
    "                try:\n",
    "                    idxs.append(self.char2index[candit])\n",
    "                except:\n",
    "                    idxs.append(self.char2index['<other>']) # '' 가 OTHER같이\n",
    "        tensor = torch.LongTensor(idxs)\n",
    "        tensor = Variable(tensor)\n",
    "        return tensor\n",
    "    \n",
    "    def prepare_char(self,seq,index=None):\n",
    "        seq = list(map(lambda v: self.prepare_single_char(v), seq))\n",
    "        if index:\n",
    "            forsort = list(zip(seq,index))\n",
    "            forsort = sorted(forsort,key = lambda s: s[0].size(0),reverse=True)\n",
    "            seq,index = list(zip(*forsort))\n",
    "            seq,index = list(seq),list(index)\n",
    "        else:\n",
    "            seq = sorted(seq,key = lambda s: s.size(0),reverse=True)\n",
    "        length = [s.size(0) for s in seq]\n",
    "        max_length = max(length)\n",
    "        seq = [torch.cat([s,Variable(torch.LongTensor([self.char2index['<pad>']]*(max_length-s.size(0))))]).view(1,-1) for s in seq]\n",
    "        seq = torch.cat(seq)\n",
    "        if index:\n",
    "            return seq, length, Variable(torch.LongTensor(index))\n",
    "        else:\n",
    "            return seq, length\n",
    "        \n",
    "    def train_mimick(self,step,batch_size=32,lr=0.0001):\n",
    "        print(\"start training mimic-rnn with %d batch_size\" % batch_size)\n",
    "        optimizer = optim.Adam(filter(lambda p: p.requires_grad, self.parameters()),lr=lr)\n",
    "        for step_index in range(step):\n",
    "            try:\n",
    "                offset = 0\n",
    "                iter_index = list(range(len(self.vocab)//batch_size + 1))\n",
    "                for i in iter_index:\n",
    "                    voca = self.vocab[offset:offset+batch_size]\n",
    "                    index = list(range(offset,offset+batch_size))\n",
    "                    offset+=batch_size\n",
    "                    \n",
    "                    inputs, lengths, index = self.prepare_char(voca,index)\n",
    "                    if USE_CUDA:\n",
    "                        inputs = inputs.cuda()\n",
    "                        index = index.cuda()\n",
    "                    self.zero_grad()\n",
    "                    outputs = self.mimick(inputs,lengths)\n",
    "                    targets = self.word_embed(index)\n",
    "                    loss = F.mse_loss(outputs,targets)\n",
    "                    loss.backward()\n",
    "                    optimizer.step()\n",
    "                    if i % 100==0:\n",
    "                        print(\"[%d/%d] [%d/%d] mean_loss : %.7f\" % (step_index,step,i,len(iter_index),loss.data[0]))\n",
    "            except KeyboardInterrupt:\n",
    "                print(\"Early Stop!\")\n",
    "                break\n",
    "            \n",
    "    def mimick(self,inputs,lengths):\n",
    "        hidden = self.init_char_hidden(inputs.size(0))\n",
    "        embedded = self.char_embed(inputs)\n",
    "        packed = pack_padded_sequence(embedded,lengths,batch_first=True)\n",
    "        outputs, (hidden,context) = self.mimick_rnn(packed, hidden)\n",
    "        outputs, output_lengths = torch.nn.utils.rnn.pad_packed_sequence(outputs, batch_first=True)\n",
    "        hidden = torch.cat([h for h in hidden], 1) # concat\n",
    "        return self.mimick_linear(hidden)\n",
    "        "
   ]
  },
  {
   "cell_type": "code",
   "execution_count": 10,
   "metadata": {
    "collapsed": false
   },
   "outputs": [],
   "source": [
    "model = MimickRNN(vocab,300,50,100,200)\n",
    "model.init_word_embed(pretrained_vector)\n",
    "if USE_CUDA:\n",
    "    model.cuda()"
   ]
  },
  {
   "cell_type": "code",
   "execution_count": 8,
   "metadata": {
    "collapsed": false
   },
   "outputs": [
    {
     "name": "stdout",
     "output_type": "stream",
     "text": [
      "start training mimic-rnn with 64 batch_size\n",
      "[0/10] [0/2319] mean_loss : 0.0517712\n",
      "[0/10] [100/2319] mean_loss : 0.0468106\n",
      "[0/10] [200/2319] mean_loss : 0.0594514\n",
      "[0/10] [300/2319] mean_loss : 0.0589707\n",
      "[0/10] [400/2319] mean_loss : 0.0593643\n",
      "[0/10] [500/2319] mean_loss : 0.0627572\n",
      "[0/10] [600/2319] mean_loss : 0.0609563\n",
      "[0/10] [700/2319] mean_loss : 0.0652010\n",
      "[0/10] [800/2319] mean_loss : 0.0655336\n",
      "Early Stop!\n"
     ]
    }
   ],
   "source": [
    "model.train_mimick(10,64)"
   ]
  },
  {
   "cell_type": "code",
   "execution_count": 19,
   "metadata": {
    "collapsed": false
   },
   "outputs": [
    {
     "data": {
      "text/plain": [
       "['하',\n",
       " '이',\n",
       " '있',\n",
       " '년',\n",
       " '한',\n",
       " '들',\n",
       " '일',\n",
       " '되',\n",
       " '월',\n",
       " '적',\n",
       " '것',\n",
       " '분류',\n",
       " '수',\n",
       " '주',\n",
       " '인',\n",
       " '했',\n",
       " '그',\n",
       " '해',\n",
       " '않',\n",
       " '한다',\n",
       " '없',\n",
       " '할',\n",
       " '사용',\n",
       " '된',\n",
       " '보',\n",
       " '합니다',\n",
       " '말',\n",
       " '등',\n",
       " '때',\n",
       " '문서',\n",
       " '파일',\n",
       " '때문']"
      ]
     },
     "execution_count": 19,
     "metadata": {},
     "output_type": "execute_result"
    }
   ],
   "source": [
    "model.vocab[0:32]"
   ]
  },
  {
   "cell_type": "code",
   "execution_count": null,
   "metadata": {
    "collapsed": true
   },
   "outputs": [],
   "source": []
  }
 ],
 "metadata": {
  "kernelspec": {
   "display_name": "Python 3",
   "language": "python",
   "name": "python3"
  },
  "language_info": {
   "codemirror_mode": {
    "name": "ipython",
    "version": 3
   },
   "file_extension": ".py",
   "mimetype": "text/x-python",
   "name": "python",
   "nbconvert_exporter": "python",
   "pygments_lexer": "ipython3",
   "version": "3.5.2"
  }
 },
 "nbformat": 4,
 "nbformat_minor": 2
}
