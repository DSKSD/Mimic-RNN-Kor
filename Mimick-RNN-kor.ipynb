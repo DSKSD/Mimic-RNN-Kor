{
 "cells": [
  {
   "cell_type": "code",
   "execution_count": 42,
   "metadata": {
    "collapsed": true
   },
   "outputs": [],
   "source": [
    "import torch\n",
    "import torch.nn as nn\n",
    "import torch.nn.functional as F\n",
    "import torch.optim as optim\n",
    "from torch.autograd import Variable\n",
    "import Hangulpy as hg\n",
    "import pickle\n",
    "flatten = lambda l: [item for sublist in l for item in sublist]\n",
    "from torch.nn.utils.rnn import PackedSequence,pack_padded_sequence\n",
    "\n",
    "USE_CUDA = torch.cuda.is_available()"
   ]
  },
  {
   "cell_type": "code",
   "execution_count": 5,
   "metadata": {
    "collapsed": true
   },
   "outputs": [],
   "source": [
    "pretrained_vector = pickle.load(open(\"data/pretrained_word2vec.pkl\",\"rb\"))\n",
    "word2index = pickle.load(open(\"data/vocab.dict\",\"rb\"))"
   ]
  },
  {
   "cell_type": "code",
   "execution_count": 6,
   "metadata": {
    "collapsed": true
   },
   "outputs": [],
   "source": [
    "index2word = {v:k for k,v in word2index.items()}"
   ]
  },
  {
   "cell_type": "code",
   "execution_count": 7,
   "metadata": {
    "collapsed": true
   },
   "outputs": [],
   "source": [
    "vocab = []\n",
    "for i in range(len(index2word)):\n",
    "    vocab.append(index2word[i])"
   ]
  },
  {
   "cell_type": "code",
   "execution_count": 8,
   "metadata": {
    "collapsed": false
   },
   "outputs": [
    {
     "data": {
      "text/plain": [
       "148392"
      ]
     },
     "execution_count": 8,
     "metadata": {},
     "output_type": "execute_result"
    }
   ],
   "source": [
    "len(vocab)"
   ]
  },
  {
   "cell_type": "code",
   "execution_count": 111,
   "metadata": {
    "collapsed": false
   },
   "outputs": [],
   "source": [
    "class MimickRNN(nn.Module):\n",
    "    \n",
    "    def __init__(self,vocab,D):\n",
    "        super(MimickRNN,self).__init__()\n",
    "        \n",
    "        V = len(vocab)\n",
    "        self.word_embed = nn.Embedding(V,D)\n",
    "        self.vocab = vocab\n",
    "        \n",
    "        char_vocab = ['<pad>','<other>','ㄱ', 'ㄲ', 'ㄴ', 'ㄷ', 'ㄸ', 'ㄹ', 'ㅁ', \n",
    "              'ㅂ', 'ㅃ', 'ㅅ', 'ㅆ', 'ㅇ', 'ㅈ', 'ㅉ', 'ㅊ', 'ㅋ', 'ㅌ', 'ㅍ', \n",
    "              'ㅎ', 'ㅏ', 'ㅐ', 'ㅑ', 'ㅒ', 'ㅓ', 'ㅔ', 'ㅕ', 'ㅖ', 'ㅗ', 'ㅘ', \n",
    "              'ㅙ', 'ㅚ', 'ㅛ', 'ㅜ', 'ㅝ', 'ㅞ', 'ㅟ', 'ㅠ', 'ㅡ', 'ㅢ', 'ㅣ',\n",
    "              'ㄳ', 'ㄵ', 'ㄶ', 'ㄺ', 'ㄻ', 'ㄼ', 'ㄽ',\n",
    "              'ㄾ', 'ㄿ', 'ㅀ', 'ㅄ',\n",
    "              '0','1','2','3','4','5','6','7','8','9','a','b','c','d','e','f','g','h','i','j','k',\n",
    "              'l','m','n','o','p','q','r','s','t','u','v','w','x','y','z','A','B','C','D','E','F','G',\n",
    "              'H','I','J','K','L','M','N','O','P','Q','R','S','T','U','V','W','X','Y','Z',\"{\",\"}\"\n",
    "               '-','(',')','!','~','?','[',']',',','.','/','<','>','#','@','$','%','^','&','*','_',\n",
    "               '+','-','=',':',';',\"'\",'\"']\n",
    "        \n",
    "        self.char2index = {v:i for i,v in enumerate(char_vocab)}\n",
    "        self.char_embed = nn.Embedding(len(self.char2index), 20)\n",
    "        self.mimick_rnn = nn.LSTM(20,50,1,batch_first=True,bidirectional=True)\n",
    "        self.mimick_linear = nn.Linear(100,D)\n",
    "        self.mimick_bias = nn.Parameter(torch.randn(100))\n",
    "        \n",
    "    def init_word_embed(self,pretrained_vectors):\n",
    "        self.word_embed.weight = nn.Parameter(torch.from_numpy(pretrained_vectors).float())\n",
    "        self.word_embed.requires_grad = False # 고정\n",
    "    \n",
    "    def init_char_hidden(self,size):\n",
    "        hidden = Variable(torch.zeros(2,size,50))\n",
    "        context = Variable(torch.zeros(2,size,50))\n",
    "        if USE_CUDA:\n",
    "            hidden = hidden.cuda()\n",
    "            context = hidden.cuda()\n",
    "        return hidden, context\n",
    "    \n",
    "    def prepare_single_char(self,token):\n",
    "        idxs=[]\n",
    "        for s in token:\n",
    "            if hg.is_hangul(s):\n",
    "                # 음소 단위 분해\n",
    "                try:\n",
    "                    emso = list(hg.decompose(s))\n",
    "                    if emso[-1]=='':\n",
    "                        emso.pop()\n",
    "                except:\n",
    "                    emso = s\n",
    "                idxs.extend(list(map(lambda w: self.char2index[w], emso)))\n",
    "            else:\n",
    "                candit=s\n",
    "                if s.isalpha():\n",
    "                    candit='<alpha>'\n",
    "                try:\n",
    "                    idxs.append(self.char2index[candit])\n",
    "                except:\n",
    "                    idxs.append(self.char2index['<other>']) # '' 가 OTHER같이\n",
    "        tensor = torch.LongTensor(idxs)\n",
    "        tensor = Variable(tensor)\n",
    "        return tensor\n",
    "    \n",
    "    def prepare_char(self,seq):\n",
    "        seq = list(map(lambda v: self.prepare_single_char(v), seq))\n",
    "        seq = sorted(seq,key = lambda s: s.size(0),reverse=True)\n",
    "        length = [s.size(0) for s in seq]\n",
    "        max_length = max(length)\n",
    "        seq = [torch.cat([s,Variable(torch.LongTensor([self.char2index['<pad>']]*(max_length-s.size(0))))]).view(1,-1) for s in seq]\n",
    "        seq = torch.cat(seq)\n",
    "        return seq, length\n",
    "        \n",
    "    def train_mimick(self,step,batch_size=32,lr=0.0001):\n",
    "        print(\"start training mimic-rnn with %d batch_size\" % batch_size)\n",
    "        optimizer = optim.Adam(self.parameters(),lr=lr)\n",
    "        for step_index in range(step):\n",
    "            offset = 0\n",
    "            iter_index = list(range(len(self.vocab)//batch_size + 1))\n",
    "            for i in iter_index:\n",
    "                voca = self.vocab[offset:offset+batch_size]\n",
    "                index = Variable(torch.LongTensor(list(range(offset,offset+batch_size))))\n",
    "                offset+=batch_size\n",
    "\n",
    "                inputs, lengths = self.prepare_char(voca)\n",
    "                if USE_CUDA:\n",
    "                    inputs = inputs.cuda()\n",
    "                    index = index.cuda()\n",
    "\n",
    "                outputs = self.mimick(inputs,lengths)\n",
    "                targets = self.word_embed(index)\n",
    "                loss = F.mse_loss(outputs,targets)\n",
    "                loss.backward()\n",
    "                optimizer.step()\n",
    "                if i % 100==0:\n",
    "                    print(\"[%d/%d] [%d/%d] mean_loss : %.3f\" % (step_index,step,i,len(iter_index),loss.data[0]))\n",
    "            \n",
    "    def mimick(self,inputs,lengths):\n",
    "        hidden = self.init_char_hidden(inputs.size(0))\n",
    "        embedded = self.char_embed(inputs)\n",
    "        packed = pack_padded_sequence(embedded,lengths,batch_first=True)\n",
    "        outputs, (hidden,context) = self.mimick_rnn(packed, hidden)\n",
    "        outputs, output_lengths = torch.nn.utils.rnn.pad_packed_sequence(outputs, batch_first=True)\n",
    "        hidden = torch.cat([h for h in hidden], 1) # concat\n",
    "        return F.tanh(self.mimick_linear(hidden + self.mimick_bias))\n",
    "        "
   ]
  },
  {
   "cell_type": "code",
   "execution_count": 112,
   "metadata": {
    "collapsed": false
   },
   "outputs": [],
   "source": [
    "model = MimickRNN(vocab,300)\n",
    "model.init_word_embed(pretrained_vector)\n",
    "if USE_CUDA:\n",
    "    model.cuda()"
   ]
  },
  {
   "cell_type": "code",
   "execution_count": 113,
   "metadata": {
    "collapsed": false
   },
   "outputs": [
    {
     "name": "stdout",
     "output_type": "stream",
     "text": [
      "start training mimic-rnn with 64 batch_size\n",
      "[0/5] [0/2319] mean_loss : 0.259\n"
     ]
    },
    {
     "ename": "KeyboardInterrupt",
     "evalue": "",
     "output_type": "error",
     "traceback": [
      "\u001b[0;31m---------------------------------------------------------------------------\u001b[0m",
      "\u001b[0;31mKeyboardInterrupt\u001b[0m                         Traceback (most recent call last)",
      "\u001b[0;32m<ipython-input-113-85ef1b8b9ece>\u001b[0m in \u001b[0;36m<module>\u001b[0;34m()\u001b[0m\n\u001b[0;32m----> 1\u001b[0;31m \u001b[0mmodel\u001b[0m\u001b[0;34m.\u001b[0m\u001b[0mtrain_mimick\u001b[0m\u001b[0;34m(\u001b[0m\u001b[0;36m5\u001b[0m\u001b[0;34m,\u001b[0m\u001b[0;36m64\u001b[0m\u001b[0;34m)\u001b[0m\u001b[0;34m\u001b[0m\u001b[0m\n\u001b[0m",
      "\u001b[0;32m<ipython-input-111-2099a7b0043c>\u001b[0m in \u001b[0;36mtrain_mimick\u001b[0;34m(self, step, batch_size, lr)\u001b[0m\n\u001b[1;32m     91\u001b[0m                 \u001b[0mloss\u001b[0m \u001b[0;34m=\u001b[0m \u001b[0mF\u001b[0m\u001b[0;34m.\u001b[0m\u001b[0mmse_loss\u001b[0m\u001b[0;34m(\u001b[0m\u001b[0moutputs\u001b[0m\u001b[0;34m,\u001b[0m\u001b[0mtargets\u001b[0m\u001b[0;34m)\u001b[0m\u001b[0;34m\u001b[0m\u001b[0m\n\u001b[1;32m     92\u001b[0m                 \u001b[0mloss\u001b[0m\u001b[0;34m.\u001b[0m\u001b[0mbackward\u001b[0m\u001b[0;34m(\u001b[0m\u001b[0;34m)\u001b[0m\u001b[0;34m\u001b[0m\u001b[0m\n\u001b[0;32m---> 93\u001b[0;31m                 \u001b[0moptimizer\u001b[0m\u001b[0;34m.\u001b[0m\u001b[0mstep\u001b[0m\u001b[0;34m(\u001b[0m\u001b[0;34m)\u001b[0m\u001b[0;34m\u001b[0m\u001b[0m\n\u001b[0m\u001b[1;32m     94\u001b[0m                 \u001b[0;32mif\u001b[0m \u001b[0mi\u001b[0m \u001b[0;34m%\u001b[0m \u001b[0;36m100\u001b[0m\u001b[0;34m==\u001b[0m\u001b[0;36m0\u001b[0m\u001b[0;34m:\u001b[0m\u001b[0;34m\u001b[0m\u001b[0m\n\u001b[1;32m     95\u001b[0m                     \u001b[0mprint\u001b[0m\u001b[0;34m(\u001b[0m\u001b[0;34m\"[%d/%d] [%d/%d] mean_loss : %.3f\"\u001b[0m \u001b[0;34m%\u001b[0m \u001b[0;34m(\u001b[0m\u001b[0mstep_index\u001b[0m\u001b[0;34m,\u001b[0m\u001b[0mstep\u001b[0m\u001b[0;34m,\u001b[0m\u001b[0mi\u001b[0m\u001b[0;34m,\u001b[0m\u001b[0mlen\u001b[0m\u001b[0;34m(\u001b[0m\u001b[0miter_index\u001b[0m\u001b[0;34m)\u001b[0m\u001b[0;34m,\u001b[0m\u001b[0mloss\u001b[0m\u001b[0;34m.\u001b[0m\u001b[0mdata\u001b[0m\u001b[0;34m[\u001b[0m\u001b[0;36m0\u001b[0m\u001b[0;34m]\u001b[0m\u001b[0;34m)\u001b[0m\u001b[0;34m)\u001b[0m\u001b[0;34m\u001b[0m\u001b[0m\n",
      "\u001b[0;32m/usr/local/lib/python3.5/dist-packages/torch/optim/adam.py\u001b[0m in \u001b[0;36mstep\u001b[0;34m(self, closure)\u001b[0m\n\u001b[1;32m     76\u001b[0m                 \u001b[0mstep_size\u001b[0m \u001b[0;34m=\u001b[0m \u001b[0mgroup\u001b[0m\u001b[0;34m[\u001b[0m\u001b[0;34m'lr'\u001b[0m\u001b[0;34m]\u001b[0m \u001b[0;34m*\u001b[0m \u001b[0mmath\u001b[0m\u001b[0;34m.\u001b[0m\u001b[0msqrt\u001b[0m\u001b[0;34m(\u001b[0m\u001b[0mbias_correction2\u001b[0m\u001b[0;34m)\u001b[0m \u001b[0;34m/\u001b[0m \u001b[0mbias_correction1\u001b[0m\u001b[0;34m\u001b[0m\u001b[0m\n\u001b[1;32m     77\u001b[0m \u001b[0;34m\u001b[0m\u001b[0m\n\u001b[0;32m---> 78\u001b[0;31m                 \u001b[0mp\u001b[0m\u001b[0;34m.\u001b[0m\u001b[0mdata\u001b[0m\u001b[0;34m.\u001b[0m\u001b[0maddcdiv_\u001b[0m\u001b[0;34m(\u001b[0m\u001b[0;34m-\u001b[0m\u001b[0mstep_size\u001b[0m\u001b[0;34m,\u001b[0m \u001b[0mexp_avg\u001b[0m\u001b[0;34m,\u001b[0m \u001b[0mdenom\u001b[0m\u001b[0;34m)\u001b[0m\u001b[0;34m\u001b[0m\u001b[0m\n\u001b[0m\u001b[1;32m     79\u001b[0m \u001b[0;34m\u001b[0m\u001b[0m\n\u001b[1;32m     80\u001b[0m         \u001b[0;32mreturn\u001b[0m \u001b[0mloss\u001b[0m\u001b[0;34m\u001b[0m\u001b[0m\n",
      "\u001b[0;31mKeyboardInterrupt\u001b[0m: "
     ]
    }
   ],
   "source": [
    "model.train_mimick(5,64)"
   ]
  },
  {
   "cell_type": "code",
   "execution_count": 20,
   "metadata": {
    "collapsed": false
   },
   "outputs": [
    {
     "data": {
      "text/plain": [
       "10"
      ]
     },
     "execution_count": 20,
     "metadata": {},
     "output_type": "execute_result"
    }
   ],
   "source": [
    "32//3"
   ]
  },
  {
   "cell_type": "code",
   "execution_count": 19,
   "metadata": {
    "collapsed": false
   },
   "outputs": [
    {
     "data": {
      "text/plain": [
       "['하',\n",
       " '이',\n",
       " '있',\n",
       " '년',\n",
       " '한',\n",
       " '들',\n",
       " '일',\n",
       " '되',\n",
       " '월',\n",
       " '적',\n",
       " '것',\n",
       " '분류',\n",
       " '수',\n",
       " '주',\n",
       " '인',\n",
       " '했',\n",
       " '그',\n",
       " '해',\n",
       " '않',\n",
       " '한다',\n",
       " '없',\n",
       " '할',\n",
       " '사용',\n",
       " '된',\n",
       " '보',\n",
       " '합니다',\n",
       " '말',\n",
       " '등',\n",
       " '때',\n",
       " '문서',\n",
       " '파일',\n",
       " '때문']"
      ]
     },
     "execution_count": 19,
     "metadata": {},
     "output_type": "execute_result"
    }
   ],
   "source": [
    "model.vocab[0:32]"
   ]
  },
  {
   "cell_type": "code",
   "execution_count": null,
   "metadata": {
    "collapsed": true
   },
   "outputs": [],
   "source": []
  }
 ],
 "metadata": {
  "kernelspec": {
   "display_name": "Python 3",
   "language": "python",
   "name": "python3"
  },
  "language_info": {
   "codemirror_mode": {
    "name": "ipython",
    "version": 3
   },
   "file_extension": ".py",
   "mimetype": "text/x-python",
   "name": "python",
   "nbconvert_exporter": "python",
   "pygments_lexer": "ipython3",
   "version": "3.5.2"
  }
 },
 "nbformat": 4,
 "nbformat_minor": 2
}
