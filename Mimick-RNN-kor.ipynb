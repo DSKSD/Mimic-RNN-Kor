{
 "cells": [
  {
   "cell_type": "code",
   "execution_count": 1,
   "metadata": {
    "collapsed": true
   },
   "outputs": [],
   "source": [
    "import torch\n",
    "import torch.nn as nn\n",
    "import torch.nn.functional as F\n",
    "import torch.optim as optim\n",
    "from torch.autograd import Variable\n",
    "import Hangulpy as hg\n",
    "import pickle\n",
    "flatten = lambda l: [item for sublist in l for item in sublist]\n",
    "from torch.nn.utils.rnn import PackedSequence,pack_padded_sequence\n",
    "\n",
    "USE_CUDA = torch.cuda.is_available()"
   ]
  },
  {
   "cell_type": "code",
   "execution_count": 2,
   "metadata": {
    "collapsed": true
   },
   "outputs": [],
   "source": [
    "pretrained_vector = pickle.load(open(\"data/glove_50.pkl\",\"rb\"))\n",
    "word2index = pickle.load(open(\"data/vocab_glove_50.dict\",\"rb\"))"
   ]
  },
  {
   "cell_type": "code",
   "execution_count": 3,
   "metadata": {
    "collapsed": true
   },
   "outputs": [],
   "source": [
    "index2word = {v:k for k,v in word2index.items()}"
   ]
  },
  {
   "cell_type": "code",
   "execution_count": 4,
   "metadata": {
    "collapsed": true
   },
   "outputs": [],
   "source": [
    "vocab = []\n",
    "for i in range(len(index2word)):\n",
    "    vocab.append(index2word[i])"
   ]
  },
  {
   "cell_type": "code",
   "execution_count": 5,
   "metadata": {
    "collapsed": false
   },
   "outputs": [
    {
     "data": {
      "text/plain": [
       "442026"
      ]
     },
     "execution_count": 5,
     "metadata": {},
     "output_type": "execute_result"
    }
   ],
   "source": [
    "len(vocab)"
   ]
  },
  {
   "cell_type": "code",
   "execution_count": 6,
   "metadata": {
    "collapsed": false
   },
   "outputs": [],
   "source": [
    "class MimickRNN(nn.Module):\n",
    "    \n",
    "    def __init__(self,vocab,word_embed,char_embed,char_hidden,mlp_hidden):\n",
    "        super(MimickRNN,self).__init__()\n",
    "        \n",
    "        self.word_embed = nn.Embedding(len(vocab),word_embed)\n",
    "        self.vocab = vocab\n",
    "        \n",
    "        char_vocab = ['<pad>','<other>','ㄱ', 'ㄲ', 'ㄴ', 'ㄷ', 'ㄸ', 'ㄹ', 'ㅁ', \n",
    "              'ㅂ', 'ㅃ', 'ㅅ', 'ㅆ', 'ㅇ', 'ㅈ', 'ㅉ', 'ㅊ', 'ㅋ', 'ㅌ', 'ㅍ', \n",
    "              'ㅎ', 'ㅏ', 'ㅐ', 'ㅑ', 'ㅒ', 'ㅓ', 'ㅔ', 'ㅕ', 'ㅖ', 'ㅗ', 'ㅘ', \n",
    "              'ㅙ', 'ㅚ', 'ㅛ', 'ㅜ', 'ㅝ', 'ㅞ', 'ㅟ', 'ㅠ', 'ㅡ', 'ㅢ', 'ㅣ',\n",
    "              'ㄳ', 'ㄵ', 'ㄶ', 'ㄺ', 'ㄻ', 'ㄼ', 'ㄽ',\n",
    "              'ㄾ', 'ㄿ', 'ㅀ', 'ㅄ',\n",
    "              '0','1','2','3','4','5','6','7','8','9','a','b','c','d','e','f','g','h','i','j','k',\n",
    "              'l','m','n','o','p','q','r','s','t','u','v','w','x','y','z','A','B','C','D','E','F','G',\n",
    "              'H','I','J','K','L','M','N','O','P','Q','R','S','T','U','V','W','X','Y','Z',\"{\",\"}\"\n",
    "               '-','(',')','!','~','?','[',']',',','.','/','<','>','#','@','$','%','^','&','*','_',\n",
    "               '+','-','=',':',';',\"'\",'\"']\n",
    "        \n",
    "        self.char_hidden = char_hidden\n",
    "        self.char2index = {v:i for i,v in enumerate(char_vocab)}\n",
    "        self.char_embed = nn.Embedding(len(self.char2index), char_embed)\n",
    "        self.mimick_rnn = nn.LSTM(char_embed,char_hidden,1,batch_first=True,bidirectional=True)\n",
    "        self.mimick_linear = nn.Sequential(nn.Linear(char_hidden*2,mlp_hidden),\n",
    "                                                           nn.Tanh(),\n",
    "                                                           nn.Linear(mlp_hidden,word_embed))\n",
    "        \n",
    "    def init_word_embed(self,pretrained_vectors):\n",
    "        self.word_embed.weight = nn.Parameter(torch.from_numpy(pretrained_vectors).float())\n",
    "        self.word_embed.requires_grad = False # 고정\n",
    "    \n",
    "    def init_char_hidden(self,size):\n",
    "        hidden = Variable(torch.zeros(2,size,self.char_hidden))\n",
    "        context = Variable(torch.zeros(2,size,self.char_hidden))\n",
    "        if USE_CUDA:\n",
    "            hidden = hidden.cuda()\n",
    "            context = hidden.cuda()\n",
    "        return hidden, context\n",
    "    \n",
    "    def prepare_single_char(self,token):\n",
    "        idxs=[]\n",
    "        for s in token:\n",
    "            if hg.is_hangul(s):\n",
    "                # 음소 단위 분해\n",
    "                try:\n",
    "                    emso = list(hg.decompose(s))\n",
    "                    if emso[-1]=='':\n",
    "                        emso.pop()\n",
    "                except:\n",
    "                    emso = s\n",
    "                idxs.extend(list(map(lambda w: self.char2index[w], emso)))\n",
    "            else:\n",
    "                candit=s\n",
    "                if s.isalpha():\n",
    "                    candit='<alpha>'\n",
    "                try:\n",
    "                    idxs.append(self.char2index[candit])\n",
    "                except:\n",
    "                    idxs.append(self.char2index['<other>']) # '' 가 OTHER같이\n",
    "        tensor = torch.LongTensor(idxs)\n",
    "        tensor = Variable(tensor)\n",
    "        return tensor\n",
    "    \n",
    "    def prepare_char(self,seq,index=None):\n",
    "        seq = list(map(lambda v: self.prepare_single_char(v), seq))\n",
    "        if index:\n",
    "            forsort = list(zip(seq,index))\n",
    "            forsort = sorted(forsort,key = lambda s: s[0].size(0),reverse=True)\n",
    "            seq,index = list(zip(*forsort))\n",
    "            seq,index = list(seq),list(index)\n",
    "        else:\n",
    "            seq = sorted(seq,key = lambda s: s.size(0),reverse=True)\n",
    "        length = [s.size(0) for s in seq]\n",
    "        max_length = max(length)\n",
    "        seq = [torch.cat([s,Variable(torch.LongTensor([self.char2index['<pad>']]*(max_length-s.size(0))))]).view(1,-1) for s in seq]\n",
    "        seq = torch.cat(seq)\n",
    "        if index:\n",
    "            return seq, length, Variable(torch.LongTensor(index))\n",
    "        else:\n",
    "            return seq, length\n",
    "        \n",
    "    def train_mimick(self,step,batch_size=32,lr=0.0001):\n",
    "        print(\"start training mimic-rnn with %d batch_size\" % batch_size)\n",
    "        optimizer = optim.Adam(filter(lambda p: p.requires_grad, self.parameters()),lr=lr)\n",
    "        for step_index in range(step):\n",
    "            try:\n",
    "                offset = 0\n",
    "                iter_index = list(range(len(self.vocab)//batch_size + 1))\n",
    "                for i in iter_index:\n",
    "                    voca = self.vocab[offset:offset+batch_size]\n",
    "                    index = list(range(offset,offset+batch_size))\n",
    "                    offset+=batch_size\n",
    "                    \n",
    "                    inputs, lengths, index = self.prepare_char(voca,index)\n",
    "                    if USE_CUDA:\n",
    "                        inputs = inputs.cuda()\n",
    "                        index = index.cuda()\n",
    "                    self.zero_grad()\n",
    "                    outputs = self.mimick(inputs,lengths)\n",
    "                    targets = self.word_embed(index)\n",
    "                    loss = F.mse_loss(outputs,targets)\n",
    "                    loss.backward()\n",
    "                    optimizer.step()\n",
    "                    if i % 100==0:\n",
    "                        print(\"[%d/%d] [%d/%d] mean_loss : %.7f\" % (step_index,step,i,len(iter_index),loss.data[0]))\n",
    "            except KeyboardInterrupt:\n",
    "                print(\"Early Stop!\")\n",
    "                break\n",
    "            \n",
    "    def mimick(self,inputs,lengths):\n",
    "        hidden = self.init_char_hidden(inputs.size(0))\n",
    "        embedded = self.char_embed(inputs)\n",
    "        packed = pack_padded_sequence(embedded,lengths,batch_first=True)\n",
    "        outputs, (hidden,context) = self.mimick_rnn(packed, hidden)\n",
    "        outputs, output_lengths = torch.nn.utils.rnn.pad_packed_sequence(outputs, batch_first=True)\n",
    "        hidden = torch.cat([h for h in hidden], 1) # concat\n",
    "        return self.mimick_linear(hidden)\n",
    "        "
   ]
  },
  {
   "cell_type": "code",
   "execution_count": 17,
   "metadata": {
    "collapsed": false
   },
   "outputs": [],
   "source": [
    "model = MimickRNN(vocab,50,20,50,200) # vocab, word_embed, char_embed, char_hidden, mlp_hidden\n",
    "model.init_word_embed(pretrained_vector)\n",
    "if USE_CUDA:\n",
    "    model.cuda()"
   ]
  },
  {
   "cell_type": "code",
   "execution_count": 18,
   "metadata": {
    "collapsed": true
   },
   "outputs": [],
   "source": [
    "STEP = 20\n",
    "BATCH_SIZE = 256"
   ]
  },
  {
   "cell_type": "code",
   "execution_count": 19,
   "metadata": {
    "collapsed": false
   },
   "outputs": [
    {
     "name": "stdout",
     "output_type": "stream",
     "text": [
      "start training mimic-rnn with 256 batch_size\n",
      "[0/20] [0/1727] mean_loss : 0.1853182\n",
      "[0/20] [100/1727] mean_loss : 0.0887868\n",
      "[0/20] [200/1727] mean_loss : 0.0812105\n",
      "[0/20] [300/1727] mean_loss : 0.0504198\n",
      "[0/20] [400/1727] mean_loss : 0.0761686\n",
      "[0/20] [500/1727] mean_loss : 0.0494849\n",
      "[0/20] [600/1727] mean_loss : 0.0541012\n",
      "[0/20] [700/1727] mean_loss : 0.0407296\n",
      "[0/20] [800/1727] mean_loss : 0.0329472\n",
      "[0/20] [900/1727] mean_loss : 0.0291799\n",
      "[0/20] [1000/1727] mean_loss : 0.0199362\n",
      "[0/20] [1100/1727] mean_loss : 0.0185190\n",
      "[0/20] [1200/1727] mean_loss : 0.0131894\n",
      "[0/20] [1300/1727] mean_loss : 0.0116504\n",
      "[0/20] [1400/1727] mean_loss : 0.0090463\n",
      "[0/20] [1500/1727] mean_loss : 0.0061225\n",
      "[0/20] [1600/1727] mean_loss : 0.0053854\n",
      "[0/20] [1700/1727] mean_loss : 0.0003932\n",
      "[1/20] [0/1727] mean_loss : 0.1853571\n",
      "[1/20] [100/1727] mean_loss : 0.0869974\n",
      "[1/20] [200/1727] mean_loss : 0.0794423\n",
      "[1/20] [300/1727] mean_loss : 0.0495287\n",
      "[1/20] [400/1727] mean_loss : 0.0749203\n",
      "[1/20] [500/1727] mean_loss : 0.0486203\n",
      "[1/20] [600/1727] mean_loss : 0.0531997\n",
      "[1/20] [700/1727] mean_loss : 0.0399901\n",
      "[1/20] [800/1727] mean_loss : 0.0322240\n",
      "[1/20] [900/1727] mean_loss : 0.0285342\n",
      "[1/20] [1000/1727] mean_loss : 0.0194544\n",
      "[1/20] [1100/1727] mean_loss : 0.0180367\n",
      "[1/20] [1200/1727] mean_loss : 0.0127414\n",
      "[1/20] [1300/1727] mean_loss : 0.0112398\n",
      "[1/20] [1400/1727] mean_loss : 0.0087185\n",
      "[1/20] [1500/1727] mean_loss : 0.0058401\n",
      "[1/20] [1600/1727] mean_loss : 0.0051322\n",
      "[1/20] [1700/1727] mean_loss : 0.0004021\n",
      "[2/20] [0/1727] mean_loss : 0.1832251\n",
      "[2/20] [100/1727] mean_loss : 0.0855852\n",
      "[2/20] [200/1727] mean_loss : 0.0779818\n",
      "[2/20] [300/1727] mean_loss : 0.0485562\n",
      "[2/20] [400/1727] mean_loss : 0.0734972\n",
      "[2/20] [500/1727] mean_loss : 0.0476459\n",
      "[2/20] [600/1727] mean_loss : 0.0521718\n",
      "[2/20] [700/1727] mean_loss : 0.0391562\n",
      "[2/20] [800/1727] mean_loss : 0.0314402\n",
      "[2/20] [900/1727] mean_loss : 0.0278717\n",
      "[2/20] [1000/1727] mean_loss : 0.0189596\n",
      "[2/20] [1100/1727] mean_loss : 0.0175452\n",
      "[2/20] [1200/1727] mean_loss : 0.0123108\n",
      "[2/20] [1300/1727] mean_loss : 0.0108587\n",
      "[2/20] [1400/1727] mean_loss : 0.0084086\n",
      "[2/20] [1500/1727] mean_loss : 0.0055841\n",
      "[2/20] [1600/1727] mean_loss : 0.0049008\n",
      "[2/20] [1700/1727] mean_loss : 0.0003773\n",
      "[3/20] [0/1727] mean_loss : 0.1811679\n",
      "[3/20] [100/1727] mean_loss : 0.0841384\n",
      "[3/20] [200/1727] mean_loss : 0.0765854\n",
      "[3/20] [300/1727] mean_loss : 0.0475760\n",
      "[3/20] [400/1727] mean_loss : 0.0721004\n",
      "[3/20] [500/1727] mean_loss : 0.0466764\n",
      "[3/20] [600/1727] mean_loss : 0.0511651\n",
      "[3/20] [700/1727] mean_loss : 0.0383318\n",
      "[3/20] [800/1727] mean_loss : 0.0307040\n",
      "[3/20] [900/1727] mean_loss : 0.0272262\n",
      "[3/20] [1000/1727] mean_loss : 0.0184698\n",
      "[3/20] [1100/1727] mean_loss : 0.0170635\n",
      "[3/20] [1200/1727] mean_loss : 0.0119023\n",
      "[3/20] [1300/1727] mean_loss : 0.0104969\n",
      "[3/20] [1400/1727] mean_loss : 0.0081110\n",
      "[3/20] [1500/1727] mean_loss : 0.0053454\n",
      "[3/20] [1600/1727] mean_loss : 0.0046865\n",
      "[3/20] [1700/1727] mean_loss : 0.0003425\n",
      "[4/20] [0/1727] mean_loss : 0.1791000\n",
      "[4/20] [100/1727] mean_loss : 0.0827885\n",
      "[4/20] [200/1727] mean_loss : 0.0753128\n",
      "[4/20] [300/1727] mean_loss : 0.0466026\n",
      "[4/20] [400/1727] mean_loss : 0.0707929\n",
      "[4/20] [500/1727] mean_loss : 0.0457591\n",
      "[4/20] [600/1727] mean_loss : 0.0501789\n",
      "[4/20] [700/1727] mean_loss : 0.0375354\n",
      "[4/20] [800/1727] mean_loss : 0.0300094\n",
      "[4/20] [900/1727] mean_loss : 0.0265996\n",
      "[4/20] [1000/1727] mean_loss : 0.0179897\n",
      "[4/20] [1100/1727] mean_loss : 0.0165951\n",
      "[4/20] [1200/1727] mean_loss : 0.0115083\n",
      "[4/20] [1300/1727] mean_loss : 0.0101467\n",
      "[4/20] [1400/1727] mean_loss : 0.0078223\n",
      "[4/20] [1500/1727] mean_loss : 0.0051130\n",
      "[4/20] [1600/1727] mean_loss : 0.0044810\n",
      "[4/20] [1700/1727] mean_loss : 0.0003013\n",
      "[5/20] [0/1727] mean_loss : 0.1771411\n",
      "[5/20] [100/1727] mean_loss : 0.0814937\n",
      "[5/20] [200/1727] mean_loss : 0.0740883\n",
      "[5/20] [300/1727] mean_loss : 0.0456291\n",
      "[5/20] [400/1727] mean_loss : 0.0695546\n",
      "[5/20] [500/1727] mean_loss : 0.0448473\n",
      "[5/20] [600/1727] mean_loss : 0.0492036\n",
      "[5/20] [700/1727] mean_loss : 0.0367431\n",
      "[5/20] [800/1727] mean_loss : 0.0293391\n",
      "[5/20] [900/1727] mean_loss : 0.0259810\n",
      "[5/20] [1000/1727] mean_loss : 0.0175179\n",
      "[5/20] [1100/1727] mean_loss : 0.0161406\n",
      "[5/20] [1200/1727] mean_loss : 0.0111328\n",
      "[5/20] [1300/1727] mean_loss : 0.0098010\n",
      "[5/20] [1400/1727] mean_loss : 0.0075461\n",
      "[5/20] [1500/1727] mean_loss : 0.0048837\n",
      "[5/20] [1600/1727] mean_loss : 0.0042840\n",
      "[5/20] [1700/1727] mean_loss : 0.0002543\n",
      "[6/20] [0/1727] mean_loss : 0.1752122\n",
      "[6/20] [100/1727] mean_loss : 0.0801963\n",
      "[6/20] [200/1727] mean_loss : 0.0728442\n",
      "[6/20] [300/1727] mean_loss : 0.0446677\n",
      "[6/20] [400/1727] mean_loss : 0.0683282\n",
      "[6/20] [500/1727] mean_loss : 0.0439846\n",
      "[6/20] [600/1727] mean_loss : 0.0482535\n",
      "[6/20] [700/1727] mean_loss : 0.0359791\n",
      "[6/20] [800/1727] mean_loss : 0.0286851\n",
      "[6/20] [900/1727] mean_loss : 0.0253890\n",
      "[6/20] [1000/1727] mean_loss : 0.0170615\n",
      "[6/20] [1100/1727] mean_loss : 0.0156972\n",
      "[6/20] [1200/1727] mean_loss : 0.0107727\n",
      "[6/20] [1300/1727] mean_loss : 0.0094714\n",
      "[6/20] [1400/1727] mean_loss : 0.0072851\n",
      "[6/20] [1500/1727] mean_loss : 0.0046671\n",
      "[6/20] [1600/1727] mean_loss : 0.0040979\n",
      "[6/20] [1700/1727] mean_loss : 0.0002029\n",
      "[7/20] [0/1727] mean_loss : 0.1733537\n",
      "[7/20] [100/1727] mean_loss : 0.0788737\n",
      "[7/20] [200/1727] mean_loss : 0.0716254\n",
      "[7/20] [300/1727] mean_loss : 0.0437601\n",
      "[7/20] [400/1727] mean_loss : 0.0672089\n",
      "[7/20] [500/1727] mean_loss : 0.0431283\n",
      "[7/20] [600/1727] mean_loss : 0.0473310\n",
      "[7/20] [700/1727] mean_loss : 0.0352175\n",
      "[7/20] [800/1727] mean_loss : 0.0280440\n",
      "[7/20] [900/1727] mean_loss : 0.0248006\n",
      "[7/20] [1000/1727] mean_loss : 0.0166197\n",
      "[7/20] [1100/1727] mean_loss : 0.0152678\n",
      "[7/20] [1200/1727] mean_loss : 0.0104253\n",
      "[7/20] [1300/1727] mean_loss : 0.0091489\n",
      "[7/20] [1400/1727] mean_loss : 0.0070356\n",
      "[7/20] [1500/1727] mean_loss : 0.0044606\n",
      "[7/20] [1600/1727] mean_loss : 0.0039188\n",
      "Early Stop!\n"
     ]
    }
   ],
   "source": [
    "model.train_mimick(STEP,BATCH_SIZE)"
   ]
  },
  {
   "cell_type": "markdown",
   "metadata": {
    "collapsed": true
   },
   "source": [
    "### Test Rare word"
   ]
  },
  {
   "cell_type": "markdown",
   "metadata": {},
   "source": [
    "https://ko.wikipedia.org/wiki/%EB%8C%80%ED%95%9C%EB%AF%BC%EA%B5%AD%EC%9D%98_%EC%9D%B8%ED%84%B0%EB%84%B7_%EC%8B%A0%EC%A1%B0%EC%96%B4_%EB%AA%A9%EB%A1%9D"
   ]
  },
  {
   "cell_type": "code",
   "execution_count": 20,
   "metadata": {
    "collapsed": true
   },
   "outputs": [],
   "source": [
    "rare_words = [\"가즈아\",\"고고씽\",\"갠톡\",\"급식충\",\"꿀잼\",\"존잼\",\"존잘\",\"낫닝겐\",\"덕통사고\",\"먹튀\",\"보이루\",\"빝코\",\"띵작\",\"댕댕이\"]"
   ]
  },
  {
   "cell_type": "code",
   "execution_count": 21,
   "metadata": {
    "collapsed": false
   },
   "outputs": [
    {
     "name": "stdout",
     "output_type": "stream",
     "text": [
      "가즈아 is not in voca\n",
      "갠톡 is not in voca\n",
      "급식충 is not in voca\n",
      "꿀잼 is not in voca\n",
      "존잼 is not in voca\n",
      "존잘 is not in voca\n",
      "낫닝겐 is not in voca\n",
      "덕통사고 is not in voca\n",
      "먹튀 is not in voca\n",
      "보이루 is not in voca\n",
      "빝코 is not in voca\n",
      "띵작 is not in voca\n"
     ]
    }
   ],
   "source": [
    "for word in rare_words:\n",
    "    try:\n",
    "        model.vocab.index(word)\n",
    "    except:\n",
    "        print(\"%s is not in voca\" % word)"
   ]
  },
  {
   "cell_type": "code",
   "execution_count": 22,
   "metadata": {
    "collapsed": false
   },
   "outputs": [],
   "source": [
    "def get_most_word_embedding(word,num=5):\n",
    "    matrix = model.word_embed.weight\n",
    "    inputs,lengths = model.prepare_char([word])\n",
    "    embedding = model.mimick(inputs,lengths)\n",
    "    similarities = matrix.matmul(embedding.transpose(0,1))\n",
    "    similarities = similarities.transpose(0,1)\n",
    "    norm = matrix.norm(dim=1)*embedding.norm()\n",
    "    similarities = similarities/norm\n",
    "    \n",
    "    _ , i = similarities.topk(num)\n",
    "    index = i.data.tolist()[0]\n",
    "    similar_words = [model.vocab[i] for i in index]\n",
    "    print(word)\n",
    "    print(similar_words)"
   ]
  },
  {
   "cell_type": "code",
   "execution_count": 23,
   "metadata": {
    "collapsed": false
   },
   "outputs": [
    {
     "name": "stdout",
     "output_type": "stream",
     "text": [
      "가즈아\n",
      "['전은아', '가오준', '뭉스타', '마통드카르', '살바람']\n",
      "\n",
      "\n",
      "고고씽\n",
      "['쇼레이', '마통드카르', '장-루이스', '마네사', '오캐롤']\n",
      "\n",
      "\n",
      "갠톡\n",
      "['스리살짝', '겉볼안', '너더댓', '으스름달밤', '곱사송어']\n",
      "\n",
      "\n",
      "급식충\n",
      "['배추속대찜', '호두튀김', '압둘라작', '집치장', '어리호박벌']\n",
      "\n",
      "\n",
      "꿀잼\n",
      "['까딱까딱', '꼴깍꼴깍', '배추속대찜', '떡판', '샌디김']\n",
      "\n",
      "\n",
      "존잼\n",
      "['오재길', '지선김', '조효남', '강민범', '서명범']\n",
      "\n",
      "\n",
      "존잘\n",
      "['오재길', '쳄질', '안종일', '천중가절', '찝찔']\n",
      "\n",
      "\n",
      "낫닝겐\n",
      "['크라스누', '뻬신드헨', '볼기짝얼레', '허민아', '안정언']\n",
      "\n",
      "\n",
      "덕통사고\n",
      "['강측모', '서덕모', '강정모', '도라지생채', '나사돌리개']\n",
      "\n",
      "\n",
      "먹튀\n",
      "['츨블', '파티걸', '새록', 'ㅍㅌㅈㅇ', '쳄질']\n",
      "\n",
      "\n",
      "보이루\n",
      "['쇼레이', '마통드카르', '곱구슬', '새록', '아재드']\n",
      "\n",
      "\n",
      "빝코\n",
      "['엘그레코', '코야테', '손상미', '루브리에', '깥마']\n",
      "\n",
      "\n",
      "띵작\n",
      "['가지불', '구재일', '빈자병', '발편잠', '낚배']\n",
      "\n",
      "\n",
      "댕댕이\n",
      "['너더댓', '부러웠어요', '깨단하', '볘쳬르녜이', '天高馬肥']\n",
      "\n",
      "\n"
     ]
    }
   ],
   "source": [
    "for word in rare_words:\n",
    "    get_most_word_embedding(word)\n",
    "    print(\"\\n\")"
   ]
  },
  {
   "cell_type": "code",
   "execution_count": 24,
   "metadata": {
    "collapsed": false
   },
   "outputs": [
    {
     "name": "stdout",
     "output_type": "stream",
     "text": [
      "냥냥이\n",
      "['뎬바', '막동이', '응우엔차이', '나사돌리개', '동인전람']\n"
     ]
    }
   ],
   "source": [
    "get_most_word_embedding(\"냥냥이\")"
   ]
  },
  {
   "cell_type": "code",
   "execution_count": null,
   "metadata": {
    "collapsed": true
   },
   "outputs": [],
   "source": []
  }
 ],
 "metadata": {
  "kernelspec": {
   "display_name": "Python 3",
   "language": "python",
   "name": "python3"
  },
  "language_info": {
   "codemirror_mode": {
    "name": "ipython",
    "version": 3
   },
   "file_extension": ".py",
   "mimetype": "text/x-python",
   "name": "python",
   "nbconvert_exporter": "python",
   "pygments_lexer": "ipython3",
   "version": "3.5.2"
  }
 },
 "nbformat": 4,
 "nbformat_minor": 2
}
